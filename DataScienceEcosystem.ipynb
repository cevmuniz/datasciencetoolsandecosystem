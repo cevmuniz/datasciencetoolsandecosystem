{
 "cells": [
  {
   "cell_type": "markdown",
   "id": "79cd7d4b-6e83-4b01-9ef4-87e7c063e8d1",
   "metadata": {},
   "source": [
    "# Data Science Tools and Ecosystem"
   ]
  },
  {
   "cell_type": "markdown",
   "id": "92db78a5-175f-4298-982d-6fca8598b8c9",
   "metadata": {},
   "source": [
    "In this notebook, Data Science Tools and Ecosystem are summarized"
   ]
  },
  {
   "cell_type": "markdown",
   "id": "1d25bdd7-8497-4acf-a556-a43cabf4375c",
   "metadata": {},
   "source": [
    "**Objectives:**\n",
    "- List of popular languages used by data scientists\n",
    "- List of popular libraries used by data scientists\n",
    "- List of popular data science tools"
   ]
  },
  {
   "cell_type": "markdown",
   "id": "211a5587-7ca0-4ce8-b395-7f7d1fe585b8",
   "metadata": {},
   "source": [
    "Some of the popular languages used by data scientists includes:\n",
    "1. Python\n",
    "2. R\n",
    "3. Julia\n",
    "4. Scala"
   ]
  },
  {
   "cell_type": "markdown",
   "id": "9cf0ae40-5886-4034-8107-687d4a7dc3a8",
   "metadata": {},
   "source": [
    "Some of the commonly used libraries used by data scientists includes:\n",
    "1. scikit-learn\n",
    "2. pandas\n",
    "3. NumPy"
   ]
  },
  {
   "cell_type": "markdown",
   "id": "a3238129-3fff-4670-aacd-522d55053669",
   "metadata": {},
   "source": [
    "| Data Science Tools |\n",
    "| ------------------ |\n",
    "| JypterLab |\n",
    "| RStudio |\n",
    "| PyCharm |"
   ]
  },
  {
   "cell_type": "markdown",
   "id": "964030fb-31f6-40da-839e-ae9e4f579b98",
   "metadata": {
    "tags": []
   },
   "source": [
    "### Below are a few examples of evaluating arithmetic expressions in Python."
   ]
  },
  {
   "cell_type": "code",
   "execution_count": 2,
   "id": "445b229e-e6bd-4264-9d19-9053cc10fe80",
   "metadata": {
    "tags": []
   },
   "outputs": [
    {
     "data": {
      "text/plain": [
       "17"
      ]
     },
     "execution_count": 2,
     "metadata": {},
     "output_type": "execute_result"
    }
   ],
   "source": [
    "# This is a simple arithmetic expression to multiply and then add integers\n",
    "(3*4)+5"
   ]
  },
  {
   "cell_type": "code",
   "execution_count": 3,
   "id": "a0e8aeb4-44dd-4d46-afe9-bcef687c330f",
   "metadata": {
    "tags": []
   },
   "outputs": [
    {
     "data": {
      "text/plain": [
       "3.3333333333333335"
      ]
     },
     "execution_count": 3,
     "metadata": {},
     "output_type": "execute_result"
    }
   ],
   "source": [
    "# This will convert 200 minutes to hours by dividing by 60\n",
    "200/60"
   ]
  },
  {
   "cell_type": "markdown",
   "id": "16d62c2d-3e59-44ce-83e9-b27dfa376953",
   "metadata": {},
   "source": [
    "## Author:\n",
    "Carlos Muniz"
   ]
  },
  {
   "cell_type": "code",
   "execution_count": null,
   "id": "6fa4b28c-2a90-4e70-8646-a9ffee5eb4d7",
   "metadata": {},
   "outputs": [],
   "source": []
  }
 ],
 "metadata": {
  "kernelspec": {
   "display_name": "Python",
   "language": "python",
   "name": "conda-env-python-py"
  },
  "language_info": {
   "codemirror_mode": {
    "name": "ipython",
    "version": 3
   },
   "file_extension": ".py",
   "mimetype": "text/x-python",
   "name": "python",
   "nbconvert_exporter": "python",
   "pygments_lexer": "ipython3",
   "version": "3.7.12"
  }
 },
 "nbformat": 4,
 "nbformat_minor": 5
}
